{
 "cells": [
  {
   "cell_type": "code",
   "execution_count": 1,
   "metadata": {},
   "outputs": [
    {
     "data": {
      "application/vnd.microsoft.datawrangler.viewer.v0+json": {
       "columns": [
        {
         "name": "index",
         "rawType": "int64",
         "type": "integer"
        },
        {
         "name": "name/name",
         "rawType": "object",
         "type": "string"
        },
        {
         "name": "isomeric_smiles",
         "rawType": "object",
         "type": "string"
        },
        {
         "name": "Model",
         "rawType": "object",
         "type": "string"
        },
        {
         "name": "BetaT",
         "rawType": "float64",
         "type": "float"
        },
        {
         "name": "GammaT",
         "rawType": "float64",
         "type": "float"
        },
        {
         "name": "BetaV",
         "rawType": "float64",
         "type": "float"
        },
        {
         "name": "GammaV",
         "rawType": "float64",
         "type": "float"
        }
       ],
       "conversionMethod": "pd.DataFrame",
       "ref": "7a1eed59-d866-4d78-b3b0-2affdddfa821",
       "rows": [
        [
         "0",
         "Methane/Krypton                                           [C1/KR]",
         "C.[Kr]",
         "XR0",
         "1.0",
         "0.9930853",
         "1.0",
         "1.0003826"
        ],
        [
         "1",
         "Methane/Nitrous oxide                                     [C1/N2O]",
         "C.[N-]=[N+]=O",
         "XR0",
         "0.98876",
         "1.02354",
         "1.0",
         "1.0"
        ],
        [
         "2",
         "Methane/Carbonyl sulfide                                  [C1/COS]",
         "C.C(=O)=S",
         "XR0",
         "1.0",
         "1.0391",
         "1.0",
         "1.1443"
        ],
        [
         "3",
         "Methane/Propylene                                         [C1/PRY]",
         "C.CC=C",
         "XR0",
         "0.998",
         "1.117",
         "1.0",
         "1.0"
        ],
        [
         "4",
         "Methane/R22                                               [C1/R22]",
         "C.C(F)(F)Cl",
         "XR0",
         "1.0",
         "1.1114773",
         "1.0",
         "1.0219928"
        ]
       ],
       "shape": {
        "columns": 7,
        "rows": 5
       }
      },
      "text/html": [
       "<div>\n",
       "<style scoped>\n",
       "    .dataframe tbody tr th:only-of-type {\n",
       "        vertical-align: middle;\n",
       "    }\n",
       "\n",
       "    .dataframe tbody tr th {\n",
       "        vertical-align: top;\n",
       "    }\n",
       "\n",
       "    .dataframe thead th {\n",
       "        text-align: right;\n",
       "    }\n",
       "</style>\n",
       "<table border=\"1\" class=\"dataframe\">\n",
       "  <thead>\n",
       "    <tr style=\"text-align: right;\">\n",
       "      <th></th>\n",
       "      <th>name/name</th>\n",
       "      <th>isomeric_smiles</th>\n",
       "      <th>Model</th>\n",
       "      <th>BetaT</th>\n",
       "      <th>GammaT</th>\n",
       "      <th>BetaV</th>\n",
       "      <th>GammaV</th>\n",
       "    </tr>\n",
       "  </thead>\n",
       "  <tbody>\n",
       "    <tr>\n",
       "      <th>0</th>\n",
       "      <td>Methane/Krypton                               ...</td>\n",
       "      <td>C.[Kr]</td>\n",
       "      <td>XR0</td>\n",
       "      <td>1.00000</td>\n",
       "      <td>0.993085</td>\n",
       "      <td>1.0</td>\n",
       "      <td>1.000383</td>\n",
       "    </tr>\n",
       "    <tr>\n",
       "      <th>1</th>\n",
       "      <td>Methane/Nitrous oxide                         ...</td>\n",
       "      <td>C.[N-]=[N+]=O</td>\n",
       "      <td>XR0</td>\n",
       "      <td>0.98876</td>\n",
       "      <td>1.023540</td>\n",
       "      <td>1.0</td>\n",
       "      <td>1.000000</td>\n",
       "    </tr>\n",
       "    <tr>\n",
       "      <th>2</th>\n",
       "      <td>Methane/Carbonyl sulfide                      ...</td>\n",
       "      <td>C.C(=O)=S</td>\n",
       "      <td>XR0</td>\n",
       "      <td>1.00000</td>\n",
       "      <td>1.039100</td>\n",
       "      <td>1.0</td>\n",
       "      <td>1.144300</td>\n",
       "    </tr>\n",
       "    <tr>\n",
       "      <th>3</th>\n",
       "      <td>Methane/Propylene                             ...</td>\n",
       "      <td>C.CC=C</td>\n",
       "      <td>XR0</td>\n",
       "      <td>0.99800</td>\n",
       "      <td>1.117000</td>\n",
       "      <td>1.0</td>\n",
       "      <td>1.000000</td>\n",
       "    </tr>\n",
       "    <tr>\n",
       "      <th>4</th>\n",
       "      <td>Methane/R22                                   ...</td>\n",
       "      <td>C.C(F)(F)Cl</td>\n",
       "      <td>XR0</td>\n",
       "      <td>1.00000</td>\n",
       "      <td>1.111477</td>\n",
       "      <td>1.0</td>\n",
       "      <td>1.021993</td>\n",
       "    </tr>\n",
       "  </tbody>\n",
       "</table>\n",
       "</div>"
      ],
      "text/plain": [
       "                                           name/name isomeric_smiles Model  \\\n",
       "0  Methane/Krypton                               ...          C.[Kr]   XR0   \n",
       "1  Methane/Nitrous oxide                         ...   C.[N-]=[N+]=O   XR0   \n",
       "2  Methane/Carbonyl sulfide                      ...       C.C(=O)=S   XR0   \n",
       "3  Methane/Propylene                             ...          C.CC=C   XR0   \n",
       "4  Methane/R22                                   ...     C.C(F)(F)Cl   XR0   \n",
       "\n",
       "     BetaT    GammaT  BetaV    GammaV  \n",
       "0  1.00000  0.993085    1.0  1.000383  \n",
       "1  0.98876  1.023540    1.0  1.000000  \n",
       "2  1.00000  1.039100    1.0  1.144300  \n",
       "3  0.99800  1.117000    1.0  1.000000  \n",
       "4  1.00000  1.111477    1.0  1.021993  "
      ]
     },
     "execution_count": 1,
     "metadata": {},
     "output_type": "execute_result"
    }
   ],
   "source": [
    "import pandas as pd\n",
    "\n",
    "# read file\n",
    "df = pd.read_csv('20240723_XR0.csv')\n",
    "df.head()"
   ]
  },
  {
   "cell_type": "code",
   "execution_count": 2,
   "metadata": {},
   "outputs": [
    {
     "data": {
      "application/vnd.microsoft.datawrangler.viewer.v0+json": {
       "columns": [
        {
         "name": "index",
         "rawType": "int64",
         "type": "integer"
        },
        {
         "name": "BetaT",
         "rawType": "float64",
         "type": "float"
        },
        {
         "name": "GammaT",
         "rawType": "float64",
         "type": "float"
        },
        {
         "name": "BetaV",
         "rawType": "float64",
         "type": "float"
        },
        {
         "name": "GammaV",
         "rawType": "float64",
         "type": "float"
        },
        {
         "name": "SMILES_part1",
         "rawType": "object",
         "type": "string"
        },
        {
         "name": "SMILES_part2",
         "rawType": "object",
         "type": "string"
        }
       ],
       "conversionMethod": "pd.DataFrame",
       "ref": "cd339dc4-217e-44d2-aeee-2f275d186064",
       "rows": [
        [
         "0",
         "1.0",
         "0.9930853",
         "1.0",
         "1.0003826",
         "C",
         "[Kr]"
        ],
        [
         "1",
         "0.98876",
         "1.02354",
         "1.0",
         "1.0",
         "C",
         "[N-]=[N+]=O"
        ],
        [
         "2",
         "1.0",
         "1.0391",
         "1.0",
         "1.1443",
         "C",
         "C(=O)=S"
        ],
        [
         "3",
         "0.998",
         "1.117",
         "1.0",
         "1.0",
         "C",
         "CC=C"
        ],
        [
         "4",
         "1.0",
         "1.1114773",
         "1.0",
         "1.0219928",
         "C",
         "C(F)(F)Cl"
        ]
       ],
       "shape": {
        "columns": 6,
        "rows": 5
       }
      },
      "text/html": [
       "<div>\n",
       "<style scoped>\n",
       "    .dataframe tbody tr th:only-of-type {\n",
       "        vertical-align: middle;\n",
       "    }\n",
       "\n",
       "    .dataframe tbody tr th {\n",
       "        vertical-align: top;\n",
       "    }\n",
       "\n",
       "    .dataframe thead th {\n",
       "        text-align: right;\n",
       "    }\n",
       "</style>\n",
       "<table border=\"1\" class=\"dataframe\">\n",
       "  <thead>\n",
       "    <tr style=\"text-align: right;\">\n",
       "      <th></th>\n",
       "      <th>BetaT</th>\n",
       "      <th>GammaT</th>\n",
       "      <th>BetaV</th>\n",
       "      <th>GammaV</th>\n",
       "      <th>SMILES_part1</th>\n",
       "      <th>SMILES_part2</th>\n",
       "    </tr>\n",
       "  </thead>\n",
       "  <tbody>\n",
       "    <tr>\n",
       "      <th>0</th>\n",
       "      <td>1.00000</td>\n",
       "      <td>0.993085</td>\n",
       "      <td>1.0</td>\n",
       "      <td>1.000383</td>\n",
       "      <td>C</td>\n",
       "      <td>[Kr]</td>\n",
       "    </tr>\n",
       "    <tr>\n",
       "      <th>1</th>\n",
       "      <td>0.98876</td>\n",
       "      <td>1.023540</td>\n",
       "      <td>1.0</td>\n",
       "      <td>1.000000</td>\n",
       "      <td>C</td>\n",
       "      <td>[N-]=[N+]=O</td>\n",
       "    </tr>\n",
       "    <tr>\n",
       "      <th>2</th>\n",
       "      <td>1.00000</td>\n",
       "      <td>1.039100</td>\n",
       "      <td>1.0</td>\n",
       "      <td>1.144300</td>\n",
       "      <td>C</td>\n",
       "      <td>C(=O)=S</td>\n",
       "    </tr>\n",
       "    <tr>\n",
       "      <th>3</th>\n",
       "      <td>0.99800</td>\n",
       "      <td>1.117000</td>\n",
       "      <td>1.0</td>\n",
       "      <td>1.000000</td>\n",
       "      <td>C</td>\n",
       "      <td>CC=C</td>\n",
       "    </tr>\n",
       "    <tr>\n",
       "      <th>4</th>\n",
       "      <td>1.00000</td>\n",
       "      <td>1.111477</td>\n",
       "      <td>1.0</td>\n",
       "      <td>1.021993</td>\n",
       "      <td>C</td>\n",
       "      <td>C(F)(F)Cl</td>\n",
       "    </tr>\n",
       "  </tbody>\n",
       "</table>\n",
       "</div>"
      ],
      "text/plain": [
       "     BetaT    GammaT  BetaV    GammaV SMILES_part1 SMILES_part2\n",
       "0  1.00000  0.993085    1.0  1.000383            C         [Kr]\n",
       "1  0.98876  1.023540    1.0  1.000000            C  [N-]=[N+]=O\n",
       "2  1.00000  1.039100    1.0  1.144300            C      C(=O)=S\n",
       "3  0.99800  1.117000    1.0  1.000000            C         CC=C\n",
       "4  1.00000  1.111477    1.0  1.021993            C    C(F)(F)Cl"
      ]
     },
     "execution_count": 2,
     "metadata": {},
     "output_type": "execute_result"
    }
   ],
   "source": [
    "# split the SMILES code at the '.'\n",
    "df[['SMILES_part1', 'SMILES_part2']] = df['isomeric_smiles'].str.split(pat='.', n = 1, expand = True)\n",
    "df.drop(columns=['isomeric_smiles', 'name/name', 'Model'], inplace = True)\n",
    "df.head()"
   ]
  },
  {
   "cell_type": "code",
   "execution_count": 3,
   "metadata": {},
   "outputs": [
    {
     "name": "stderr",
     "output_type": "stream",
     "text": [
      "[20:17:01] WARNING: not removing hydrogen atom without neighbors\n",
      "[20:17:01] WARNING: not removing hydrogen atom without neighbors\n",
      "[20:17:01] WARNING: not removing hydrogen atom without neighbors\n",
      "[20:17:01] WARNING: not removing hydrogen atom without neighbors\n",
      "[20:17:01] WARNING: not removing hydrogen atom without neighbors\n",
      "[20:17:01] WARNING: not removing hydrogen atom without neighbors\n"
     ]
    },
    {
     "data": {
      "application/vnd.microsoft.datawrangler.viewer.v0+json": {
       "columns": [
        {
         "name": "index",
         "rawType": "int64",
         "type": "integer"
        },
        {
         "name": "BetaT",
         "rawType": "float64",
         "type": "float"
        },
        {
         "name": "GammaT",
         "rawType": "float64",
         "type": "float"
        },
        {
         "name": "BetaV",
         "rawType": "float64",
         "type": "float"
        },
        {
         "name": "GammaV",
         "rawType": "float64",
         "type": "float"
        },
        {
         "name": "SMILES_part1",
         "rawType": "object",
         "type": "string"
        },
        {
         "name": "SMILES_part2",
         "rawType": "object",
         "type": "string"
        }
       ],
       "conversionMethod": "pd.DataFrame",
       "ref": "800af8d3-16fa-4837-a734-b72ed16c553a",
       "rows": [
        [
         "0",
         "1.0",
         "0.9930853",
         "1.0",
         "1.0003826",
         "C",
         "[Kr]"
        ],
        [
         "1",
         "0.98876",
         "1.02354",
         "1.0",
         "1.0",
         "C",
         "[N-]=[N+]=O"
        ],
        [
         "2",
         "1.0",
         "1.0391",
         "1.0",
         "1.1443",
         "C",
         "O=C=S"
        ],
        [
         "3",
         "0.998",
         "1.117",
         "1.0",
         "1.0",
         "C",
         "C=CC"
        ],
        [
         "4",
         "1.0",
         "1.1114773",
         "1.0",
         "1.0219928",
         "C",
         "FC(F)Cl"
        ]
       ],
       "shape": {
        "columns": 6,
        "rows": 5
       }
      },
      "text/html": [
       "<div>\n",
       "<style scoped>\n",
       "    .dataframe tbody tr th:only-of-type {\n",
       "        vertical-align: middle;\n",
       "    }\n",
       "\n",
       "    .dataframe tbody tr th {\n",
       "        vertical-align: top;\n",
       "    }\n",
       "\n",
       "    .dataframe thead th {\n",
       "        text-align: right;\n",
       "    }\n",
       "</style>\n",
       "<table border=\"1\" class=\"dataframe\">\n",
       "  <thead>\n",
       "    <tr style=\"text-align: right;\">\n",
       "      <th></th>\n",
       "      <th>BetaT</th>\n",
       "      <th>GammaT</th>\n",
       "      <th>BetaV</th>\n",
       "      <th>GammaV</th>\n",
       "      <th>SMILES_part1</th>\n",
       "      <th>SMILES_part2</th>\n",
       "    </tr>\n",
       "  </thead>\n",
       "  <tbody>\n",
       "    <tr>\n",
       "      <th>0</th>\n",
       "      <td>1.00000</td>\n",
       "      <td>0.993085</td>\n",
       "      <td>1.0</td>\n",
       "      <td>1.000383</td>\n",
       "      <td>C</td>\n",
       "      <td>[Kr]</td>\n",
       "    </tr>\n",
       "    <tr>\n",
       "      <th>1</th>\n",
       "      <td>0.98876</td>\n",
       "      <td>1.023540</td>\n",
       "      <td>1.0</td>\n",
       "      <td>1.000000</td>\n",
       "      <td>C</td>\n",
       "      <td>[N-]=[N+]=O</td>\n",
       "    </tr>\n",
       "    <tr>\n",
       "      <th>2</th>\n",
       "      <td>1.00000</td>\n",
       "      <td>1.039100</td>\n",
       "      <td>1.0</td>\n",
       "      <td>1.144300</td>\n",
       "      <td>C</td>\n",
       "      <td>O=C=S</td>\n",
       "    </tr>\n",
       "    <tr>\n",
       "      <th>3</th>\n",
       "      <td>0.99800</td>\n",
       "      <td>1.117000</td>\n",
       "      <td>1.0</td>\n",
       "      <td>1.000000</td>\n",
       "      <td>C</td>\n",
       "      <td>C=CC</td>\n",
       "    </tr>\n",
       "    <tr>\n",
       "      <th>4</th>\n",
       "      <td>1.00000</td>\n",
       "      <td>1.111477</td>\n",
       "      <td>1.0</td>\n",
       "      <td>1.021993</td>\n",
       "      <td>C</td>\n",
       "      <td>FC(F)Cl</td>\n",
       "    </tr>\n",
       "  </tbody>\n",
       "</table>\n",
       "</div>"
      ],
      "text/plain": [
       "     BetaT    GammaT  BetaV    GammaV SMILES_part1 SMILES_part2\n",
       "0  1.00000  0.993085    1.0  1.000383            C         [Kr]\n",
       "1  0.98876  1.023540    1.0  1.000000            C  [N-]=[N+]=O\n",
       "2  1.00000  1.039100    1.0  1.144300            C        O=C=S\n",
       "3  0.99800  1.117000    1.0  1.000000            C         C=CC\n",
       "4  1.00000  1.111477    1.0  1.021993            C      FC(F)Cl"
      ]
     },
     "execution_count": 3,
     "metadata": {},
     "output_type": "execute_result"
    }
   ],
   "source": [
    "from rdkit import Chem\n",
    "from rdkit.Chem import RemoveHs\n",
    "\n",
    "# convert isomeric SMILES to canonical SMILES\n",
    "def convert_to_canonical(smiles):\n",
    "    mol = Chem.MolFromSmiles(smiles)\n",
    "    # Convert molecule to Kekulé form to ensure stability before removing Hs\n",
    "    Chem.Kekulize(mol, clearAromaticFlags=True)\n",
    "    mol = RemoveHs(mol)  # Remove explicit hydrogens\n",
    "    return Chem.MolToSmiles(mol, isomericSmiles=False) if mol else None\n",
    "\n",
    "# Apply function separately to each column\n",
    "df['SMILES_part1'] = df['SMILES_part1'].apply(convert_to_canonical)\n",
    "df['SMILES_part2'] = df['SMILES_part2'].apply(convert_to_canonical)\n",
    "\n",
    "df.head()"
   ]
  },
  {
   "cell_type": "code",
   "execution_count": 4,
   "metadata": {},
   "outputs": [],
   "source": [
    "df.to_csv('split_smiles.csv', index= False)"
   ]
  }
 ],
 "metadata": {
  "kernelspec": {
   "display_name": "Python 3",
   "language": "python",
   "name": "python3"
  },
  "language_info": {
   "codemirror_mode": {
    "name": "ipython",
    "version": 3
   },
   "file_extension": ".py",
   "mimetype": "text/x-python",
   "name": "python",
   "nbconvert_exporter": "python",
   "pygments_lexer": "ipython3",
   "version": "3.12.3"
  }
 },
 "nbformat": 4,
 "nbformat_minor": 2
}
