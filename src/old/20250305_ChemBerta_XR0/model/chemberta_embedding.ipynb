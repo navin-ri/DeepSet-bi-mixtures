{
 "cells": [
  {
   "cell_type": "code",
   "execution_count": 1,
   "metadata": {},
   "outputs": [
    {
     "name": "stderr",
     "output_type": "stream",
     "text": [
      "/Library/Frameworks/Python.framework/Versions/3.12/lib/python3.12/site-packages/tqdm/auto.py:21: TqdmWarning: IProgress not found. Please update jupyter and ipywidgets. See https://ipywidgets.readthedocs.io/en/stable/user_install.html\n",
      "  from .autonotebook import tqdm as notebook_tqdm\n",
      "Some weights of RobertaModel were not initialized from the model checkpoint at DeepChem/ChemBERTa-77M-MLM and are newly initialized: ['roberta.pooler.dense.bias', 'roberta.pooler.dense.weight']\n",
      "You should probably TRAIN this model on a down-stream task to be able to use it for predictions and inference.\n"
     ]
    }
   ],
   "source": [
    "import pandas as pd\n",
    "import torch\n",
    "from transformers import AutoTokenizer, AutoModel\n",
    "import numpy as np\n",
    "\n",
    "# Load ChemBERTa tokenizer and model\n",
    "tokenizer = AutoTokenizer.from_pretrained(\"DeepChem/ChemBERTa-77M-MLM\")\n",
    "model = AutoModel.from_pretrained(\"DeepChem/ChemBERTa-77M-MLM\")\n",
    "\n",
    "# Function to extract ChemBERTa embeddings for a single SMILES string\n",
    "def get_chemberta_embedding(smiles):\n",
    "    if pd.isna(smiles) or not isinstance(smiles, str):  # Handle NaN and non-string values\n",
    "        return np.zeros(768)  # Return a zero vector for consistency\n",
    "    inputs = tokenizer(smiles, padding=True, truncation=True, return_tensors=\"pt\")\n",
    "    with torch.no_grad():\n",
    "        outputs = model(**inputs)\n",
    "    return outputs.last_hidden_state.mean(dim=1).squeeze().numpy()  # Mean pooling\n",
    "\n",
    "# Load dataset\n",
    "file_path = \"split_smiles.csv\"  # Ensure this file is in the working directory\n",
    "df = pd.read_csv(file_path)\n",
    "\n",
    "# Ensure the required columns exist\n",
    "if \"SMILES_part1\" in df.columns and \"SMILES_part2\" in df.columns:\n",
    "    # Apply embedding function to each SMILES column\n",
    "    df[\"embedding_1\"] = df[\"SMILES_part1\"].apply(get_chemberta_embedding)\n",
    "    df[\"embedding_2\"] = df[\"SMILES_part2\"].apply(get_chemberta_embedding)\n",
    "\n",
    "    # Convert embeddings into separate feature columns\n",
    "    embedding_1_df = pd.DataFrame(df[\"embedding_1\"].to_list(), columns=[f\"feat_1_{i}\" for i in range(384)])\n",
    "    embedding_2_df = pd.DataFrame(df[\"embedding_2\"].to_list(), columns=[f\"feat_2_{i}\" for i in range(384)])\n",
    "\n",
    "    # Merge embeddings with original data\n",
    "    df = df.drop(columns=[\"embedding_1\", \"embedding_2\"]).join([embedding_1_df, embedding_2_df])\n",
    "\n",
    "    # Save to CSV\n",
    "    output_path = \"chemberta_features.csv\"\n",
    "    df.to_csv(output_path, index=False)\n",
    "else:\n",
    "    print(\"Error: Required columns 'SMILES_part1' and 'SMILES_part2' not found in the CSV file.\")"
   ]
  },
  {
   "cell_type": "code",
   "execution_count": null,
   "metadata": {},
   "outputs": [],
   "source": []
  }
 ],
 "metadata": {
  "kernelspec": {
   "display_name": "Python 3",
   "language": "python",
   "name": "python3"
  },
  "language_info": {
   "codemirror_mode": {
    "name": "ipython",
    "version": 3
   },
   "file_extension": ".py",
   "mimetype": "text/x-python",
   "name": "python",
   "nbconvert_exporter": "python",
   "pygments_lexer": "ipython3",
   "version": "3.12.3"
  }
 },
 "nbformat": 4,
 "nbformat_minor": 2
}
