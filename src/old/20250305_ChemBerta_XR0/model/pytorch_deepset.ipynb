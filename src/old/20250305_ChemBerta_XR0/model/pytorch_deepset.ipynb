{
 "cells": [
  {
   "cell_type": "code",
   "execution_count": null,
   "metadata": {},
   "outputs": [
    {
     "data": {
      "text/plain": [
       "0    C\n",
       "1    C\n",
       "2    C\n",
       "3    C\n",
       "4    C\n",
       "Name: SMILES_part1, dtype: object"
      ]
     },
     "execution_count": 6,
     "metadata": {},
     "output_type": "execute_result"
    }
   ],
   "source": [
    "from transformers import AutoTokenizer, AutoModel\n",
    "import torch\n",
    "import torch.nn as nn \n",
    "import torch.utils.data import DataLoader, Dataset\n",
    "import numpy as np\n",
    "import pandas as pd\n",
    "\n",
    "# 1. ChemBerta Encoder\n",
    "class ChemBertaEncoder(nn.module):\n",
    "    def __init__(self, pretrained_model = 'DeepChem/ChemBerta-77M-MLM'):\n",
    "        super().__init__()\n",
    "        self.model = AutoModel.from_pretrained(pretrained_model)\n",
    "        self.tokenizer = AutoTokenizer.from_pretrained(pretrained_model)\n",
    "\n",
    "# load data\n",
    "df = pd.read_csv('split_smiles.csv')\n",
    "X1 = df['SMILES_part1']\n",
    "X2 = df['SMILES_part2']\n",
    "y = df[['BetaT','GammaT','BetaV', 'GammaV']]  "
   ]
  },
  {
   "cell_type": "code",
   "execution_count": null,
   "metadata": {},
   "outputs": [],
   "source": []
  }
 ],
 "metadata": {
  "kernelspec": {
   "display_name": "Python 3",
   "language": "python",
   "name": "python3"
  },
  "language_info": {
   "codemirror_mode": {
    "name": "ipython",
    "version": 3
   },
   "file_extension": ".py",
   "mimetype": "text/x-python",
   "name": "python",
   "nbconvert_exporter": "python",
   "pygments_lexer": "ipython3",
   "version": "3.12.3"
  }
 },
 "nbformat": 4,
 "nbformat_minor": 2
}
