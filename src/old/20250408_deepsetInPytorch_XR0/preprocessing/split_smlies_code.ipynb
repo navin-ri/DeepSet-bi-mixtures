{
 "cells": [
  {
   "cell_type": "code",
   "execution_count": 1,
   "metadata": {},
   "outputs": [
    {
     "data": {
      "application/vnd.microsoft.datawrangler.viewer.v0+json": {
       "columns": [
        {
         "name": "index",
         "rawType": "int64",
         "type": "integer"
        },
        {
         "name": "name/name",
         "rawType": "object",
         "type": "string"
        },
        {
         "name": "isomeric_smiles",
         "rawType": "object",
         "type": "string"
        },
        {
         "name": "Model",
         "rawType": "object",
         "type": "string"
        },
        {
         "name": "BetaT",
         "rawType": "float64",
         "type": "float"
        },
        {
         "name": "GammaT",
         "rawType": "float64",
         "type": "float"
        },
        {
         "name": "BetaV",
         "rawType": "int64",
         "type": "integer"
        },
        {
         "name": "GammaV",
         "rawType": "float64",
         "type": "float"
        }
       ],
       "conversionMethod": "pd.DataFrame",
       "ref": "5eb566c8-f61a-4fa8-a230-5e751a2e04f3",
       "rows": [
        [
         "0",
         "Methane/R22                                               [C1/R22]",
         "C.C(F)(F)Cl",
         "XR0",
         "1.0",
         "1.1114773",
         "1",
         "1.0219928"
        ],
        [
         "1",
         "Nitrogen/R14                                              [N2/R14]",
         "N#N.C(F)(F)(F)F",
         "XR0",
         "1.0",
         "1.0674",
         "1",
         "1.1693"
        ],
        [
         "2",
         "Nitrogen/R13                                              [N2/R13]",
         "N#N.C(F)(F)(F)Cl",
         "XR0",
         "1.0",
         "1.181",
         "1",
         "1.1727"
        ],
        [
         "3",
         "Nitrogen/R22                                              [N2/R22]",
         "N#N.C(F)(F)Cl",
         "XR0",
         "1.0",
         "1.2360548",
         "1",
         "1.0311034"
        ],
        [
         "4",
         "Nitrogen/R12                                              [N2/R12]",
         "N#N.C(F)(F)(Cl)Cl",
         "XR0",
         "1.0",
         "1.2981559",
         "1",
         "1.0625855"
        ]
       ],
       "shape": {
        "columns": 7,
        "rows": 5
       }
      },
      "text/html": [
       "<div>\n",
       "<style scoped>\n",
       "    .dataframe tbody tr th:only-of-type {\n",
       "        vertical-align: middle;\n",
       "    }\n",
       "\n",
       "    .dataframe tbody tr th {\n",
       "        vertical-align: top;\n",
       "    }\n",
       "\n",
       "    .dataframe thead th {\n",
       "        text-align: right;\n",
       "    }\n",
       "</style>\n",
       "<table border=\"1\" class=\"dataframe\">\n",
       "  <thead>\n",
       "    <tr style=\"text-align: right;\">\n",
       "      <th></th>\n",
       "      <th>name/name</th>\n",
       "      <th>isomeric_smiles</th>\n",
       "      <th>Model</th>\n",
       "      <th>BetaT</th>\n",
       "      <th>GammaT</th>\n",
       "      <th>BetaV</th>\n",
       "      <th>GammaV</th>\n",
       "    </tr>\n",
       "  </thead>\n",
       "  <tbody>\n",
       "    <tr>\n",
       "      <th>0</th>\n",
       "      <td>Methane/R22                                   ...</td>\n",
       "      <td>C.C(F)(F)Cl</td>\n",
       "      <td>XR0</td>\n",
       "      <td>1.0</td>\n",
       "      <td>1.111477</td>\n",
       "      <td>1</td>\n",
       "      <td>1.021993</td>\n",
       "    </tr>\n",
       "    <tr>\n",
       "      <th>1</th>\n",
       "      <td>Nitrogen/R14                                  ...</td>\n",
       "      <td>N#N.C(F)(F)(F)F</td>\n",
       "      <td>XR0</td>\n",
       "      <td>1.0</td>\n",
       "      <td>1.067400</td>\n",
       "      <td>1</td>\n",
       "      <td>1.169300</td>\n",
       "    </tr>\n",
       "    <tr>\n",
       "      <th>2</th>\n",
       "      <td>Nitrogen/R13                                  ...</td>\n",
       "      <td>N#N.C(F)(F)(F)Cl</td>\n",
       "      <td>XR0</td>\n",
       "      <td>1.0</td>\n",
       "      <td>1.181000</td>\n",
       "      <td>1</td>\n",
       "      <td>1.172700</td>\n",
       "    </tr>\n",
       "    <tr>\n",
       "      <th>3</th>\n",
       "      <td>Nitrogen/R22                                  ...</td>\n",
       "      <td>N#N.C(F)(F)Cl</td>\n",
       "      <td>XR0</td>\n",
       "      <td>1.0</td>\n",
       "      <td>1.236055</td>\n",
       "      <td>1</td>\n",
       "      <td>1.031103</td>\n",
       "    </tr>\n",
       "    <tr>\n",
       "      <th>4</th>\n",
       "      <td>Nitrogen/R12                                  ...</td>\n",
       "      <td>N#N.C(F)(F)(Cl)Cl</td>\n",
       "      <td>XR0</td>\n",
       "      <td>1.0</td>\n",
       "      <td>1.298156</td>\n",
       "      <td>1</td>\n",
       "      <td>1.062585</td>\n",
       "    </tr>\n",
       "  </tbody>\n",
       "</table>\n",
       "</div>"
      ],
      "text/plain": [
       "                                           name/name    isomeric_smiles Model  \\\n",
       "0  Methane/R22                                   ...        C.C(F)(F)Cl   XR0   \n",
       "1  Nitrogen/R14                                  ...    N#N.C(F)(F)(F)F   XR0   \n",
       "2  Nitrogen/R13                                  ...   N#N.C(F)(F)(F)Cl   XR0   \n",
       "3  Nitrogen/R22                                  ...      N#N.C(F)(F)Cl   XR0   \n",
       "4  Nitrogen/R12                                  ...  N#N.C(F)(F)(Cl)Cl   XR0   \n",
       "\n",
       "   BetaT    GammaT  BetaV    GammaV  \n",
       "0    1.0  1.111477      1  1.021993  \n",
       "1    1.0  1.067400      1  1.169300  \n",
       "2    1.0  1.181000      1  1.172700  \n",
       "3    1.0  1.236055      1  1.031103  \n",
       "4    1.0  1.298156      1  1.062585  "
      ]
     },
     "execution_count": 1,
     "metadata": {},
     "output_type": "execute_result"
    }
   ],
   "source": [
    "import pandas as pd\n",
    "\n",
    "# read file\n",
    "df = pd.read_csv('20250408_XR0.csv')\n",
    "df.head()"
   ]
  },
  {
   "cell_type": "code",
   "execution_count": 2,
   "metadata": {},
   "outputs": [
    {
     "data": {
      "application/vnd.microsoft.datawrangler.viewer.v0+json": {
       "columns": [
        {
         "name": "index",
         "rawType": "int64",
         "type": "integer"
        },
        {
         "name": "BetaT",
         "rawType": "float64",
         "type": "float"
        },
        {
         "name": "GammaT",
         "rawType": "float64",
         "type": "float"
        },
        {
         "name": "BetaV",
         "rawType": "int64",
         "type": "integer"
        },
        {
         "name": "GammaV",
         "rawType": "float64",
         "type": "float"
        },
        {
         "name": "SMILES_part1",
         "rawType": "object",
         "type": "string"
        },
        {
         "name": "SMILES_part2",
         "rawType": "object",
         "type": "string"
        }
       ],
       "conversionMethod": "pd.DataFrame",
       "ref": "d873e8a3-6bcd-4d04-bd29-ef6b44ba66f1",
       "rows": [
        [
         "0",
         "1.0",
         "1.1114773",
         "1",
         "1.0219928",
         "C",
         "C(F)(F)Cl"
        ],
        [
         "1",
         "1.0",
         "1.0674",
         "1",
         "1.1693",
         "N#N",
         "C(F)(F)(F)F"
        ],
        [
         "2",
         "1.0",
         "1.181",
         "1",
         "1.1727",
         "N#N",
         "C(F)(F)(F)Cl"
        ],
        [
         "3",
         "1.0",
         "1.2360548",
         "1",
         "1.0311034",
         "N#N",
         "C(F)(F)Cl"
        ],
        [
         "4",
         "1.0",
         "1.2981559",
         "1",
         "1.0625855",
         "N#N",
         "C(F)(F)(Cl)Cl"
        ]
       ],
       "shape": {
        "columns": 6,
        "rows": 5
       }
      },
      "text/html": [
       "<div>\n",
       "<style scoped>\n",
       "    .dataframe tbody tr th:only-of-type {\n",
       "        vertical-align: middle;\n",
       "    }\n",
       "\n",
       "    .dataframe tbody tr th {\n",
       "        vertical-align: top;\n",
       "    }\n",
       "\n",
       "    .dataframe thead th {\n",
       "        text-align: right;\n",
       "    }\n",
       "</style>\n",
       "<table border=\"1\" class=\"dataframe\">\n",
       "  <thead>\n",
       "    <tr style=\"text-align: right;\">\n",
       "      <th></th>\n",
       "      <th>BetaT</th>\n",
       "      <th>GammaT</th>\n",
       "      <th>BetaV</th>\n",
       "      <th>GammaV</th>\n",
       "      <th>SMILES_part1</th>\n",
       "      <th>SMILES_part2</th>\n",
       "    </tr>\n",
       "  </thead>\n",
       "  <tbody>\n",
       "    <tr>\n",
       "      <th>0</th>\n",
       "      <td>1.0</td>\n",
       "      <td>1.111477</td>\n",
       "      <td>1</td>\n",
       "      <td>1.021993</td>\n",
       "      <td>C</td>\n",
       "      <td>C(F)(F)Cl</td>\n",
       "    </tr>\n",
       "    <tr>\n",
       "      <th>1</th>\n",
       "      <td>1.0</td>\n",
       "      <td>1.067400</td>\n",
       "      <td>1</td>\n",
       "      <td>1.169300</td>\n",
       "      <td>N#N</td>\n",
       "      <td>C(F)(F)(F)F</td>\n",
       "    </tr>\n",
       "    <tr>\n",
       "      <th>2</th>\n",
       "      <td>1.0</td>\n",
       "      <td>1.181000</td>\n",
       "      <td>1</td>\n",
       "      <td>1.172700</td>\n",
       "      <td>N#N</td>\n",
       "      <td>C(F)(F)(F)Cl</td>\n",
       "    </tr>\n",
       "    <tr>\n",
       "      <th>3</th>\n",
       "      <td>1.0</td>\n",
       "      <td>1.236055</td>\n",
       "      <td>1</td>\n",
       "      <td>1.031103</td>\n",
       "      <td>N#N</td>\n",
       "      <td>C(F)(F)Cl</td>\n",
       "    </tr>\n",
       "    <tr>\n",
       "      <th>4</th>\n",
       "      <td>1.0</td>\n",
       "      <td>1.298156</td>\n",
       "      <td>1</td>\n",
       "      <td>1.062585</td>\n",
       "      <td>N#N</td>\n",
       "      <td>C(F)(F)(Cl)Cl</td>\n",
       "    </tr>\n",
       "  </tbody>\n",
       "</table>\n",
       "</div>"
      ],
      "text/plain": [
       "   BetaT    GammaT  BetaV    GammaV SMILES_part1   SMILES_part2\n",
       "0    1.0  1.111477      1  1.021993            C      C(F)(F)Cl\n",
       "1    1.0  1.067400      1  1.169300          N#N    C(F)(F)(F)F\n",
       "2    1.0  1.181000      1  1.172700          N#N   C(F)(F)(F)Cl\n",
       "3    1.0  1.236055      1  1.031103          N#N      C(F)(F)Cl\n",
       "4    1.0  1.298156      1  1.062585          N#N  C(F)(F)(Cl)Cl"
      ]
     },
     "execution_count": 2,
     "metadata": {},
     "output_type": "execute_result"
    }
   ],
   "source": [
    "# split the SMILES code at the '.'\n",
    "df[['SMILES_part1', 'SMILES_part2']] = df['isomeric_smiles'].str.split(pat='.', n = 1, expand = True)\n",
    "df.drop(columns=['isomeric_smiles', 'name/name', 'Model'], inplace = True)\n",
    "df.head()"
   ]
  },
  {
   "cell_type": "code",
   "execution_count": 3,
   "metadata": {},
   "outputs": [
    {
     "data": {
      "application/vnd.microsoft.datawrangler.viewer.v0+json": {
       "columns": [
        {
         "name": "index",
         "rawType": "int64",
         "type": "integer"
        },
        {
         "name": "BetaT",
         "rawType": "float64",
         "type": "float"
        },
        {
         "name": "GammaT",
         "rawType": "float64",
         "type": "float"
        },
        {
         "name": "BetaV",
         "rawType": "int64",
         "type": "integer"
        },
        {
         "name": "GammaV",
         "rawType": "float64",
         "type": "float"
        },
        {
         "name": "SMILES_part1",
         "rawType": "object",
         "type": "string"
        },
        {
         "name": "SMILES_part2",
         "rawType": "object",
         "type": "string"
        }
       ],
       "conversionMethod": "pd.DataFrame",
       "ref": "6ef2c80a-8b99-4dab-92c3-63682da0bcae",
       "rows": [
        [
         "0",
         "1.0",
         "1.1114773",
         "1",
         "1.0219928",
         "C",
         "FC(F)Cl"
        ],
        [
         "1",
         "1.0",
         "1.0674",
         "1",
         "1.1693",
         "N#N",
         "FC(F)(F)F"
        ],
        [
         "2",
         "1.0",
         "1.181",
         "1",
         "1.1727",
         "N#N",
         "FC(F)(F)Cl"
        ],
        [
         "3",
         "1.0",
         "1.2360548",
         "1",
         "1.0311034",
         "N#N",
         "FC(F)Cl"
        ],
        [
         "4",
         "1.0",
         "1.2981559",
         "1",
         "1.0625855",
         "N#N",
         "FC(F)(Cl)Cl"
        ]
       ],
       "shape": {
        "columns": 6,
        "rows": 5
       }
      },
      "text/html": [
       "<div>\n",
       "<style scoped>\n",
       "    .dataframe tbody tr th:only-of-type {\n",
       "        vertical-align: middle;\n",
       "    }\n",
       "\n",
       "    .dataframe tbody tr th {\n",
       "        vertical-align: top;\n",
       "    }\n",
       "\n",
       "    .dataframe thead th {\n",
       "        text-align: right;\n",
       "    }\n",
       "</style>\n",
       "<table border=\"1\" class=\"dataframe\">\n",
       "  <thead>\n",
       "    <tr style=\"text-align: right;\">\n",
       "      <th></th>\n",
       "      <th>BetaT</th>\n",
       "      <th>GammaT</th>\n",
       "      <th>BetaV</th>\n",
       "      <th>GammaV</th>\n",
       "      <th>SMILES_part1</th>\n",
       "      <th>SMILES_part2</th>\n",
       "    </tr>\n",
       "  </thead>\n",
       "  <tbody>\n",
       "    <tr>\n",
       "      <th>0</th>\n",
       "      <td>1.0</td>\n",
       "      <td>1.111477</td>\n",
       "      <td>1</td>\n",
       "      <td>1.021993</td>\n",
       "      <td>C</td>\n",
       "      <td>FC(F)Cl</td>\n",
       "    </tr>\n",
       "    <tr>\n",
       "      <th>1</th>\n",
       "      <td>1.0</td>\n",
       "      <td>1.067400</td>\n",
       "      <td>1</td>\n",
       "      <td>1.169300</td>\n",
       "      <td>N#N</td>\n",
       "      <td>FC(F)(F)F</td>\n",
       "    </tr>\n",
       "    <tr>\n",
       "      <th>2</th>\n",
       "      <td>1.0</td>\n",
       "      <td>1.181000</td>\n",
       "      <td>1</td>\n",
       "      <td>1.172700</td>\n",
       "      <td>N#N</td>\n",
       "      <td>FC(F)(F)Cl</td>\n",
       "    </tr>\n",
       "    <tr>\n",
       "      <th>3</th>\n",
       "      <td>1.0</td>\n",
       "      <td>1.236055</td>\n",
       "      <td>1</td>\n",
       "      <td>1.031103</td>\n",
       "      <td>N#N</td>\n",
       "      <td>FC(F)Cl</td>\n",
       "    </tr>\n",
       "    <tr>\n",
       "      <th>4</th>\n",
       "      <td>1.0</td>\n",
       "      <td>1.298156</td>\n",
       "      <td>1</td>\n",
       "      <td>1.062585</td>\n",
       "      <td>N#N</td>\n",
       "      <td>FC(F)(Cl)Cl</td>\n",
       "    </tr>\n",
       "  </tbody>\n",
       "</table>\n",
       "</div>"
      ],
      "text/plain": [
       "   BetaT    GammaT  BetaV    GammaV SMILES_part1 SMILES_part2\n",
       "0    1.0  1.111477      1  1.021993            C      FC(F)Cl\n",
       "1    1.0  1.067400      1  1.169300          N#N    FC(F)(F)F\n",
       "2    1.0  1.181000      1  1.172700          N#N   FC(F)(F)Cl\n",
       "3    1.0  1.236055      1  1.031103          N#N      FC(F)Cl\n",
       "4    1.0  1.298156      1  1.062585          N#N  FC(F)(Cl)Cl"
      ]
     },
     "execution_count": 3,
     "metadata": {},
     "output_type": "execute_result"
    }
   ],
   "source": [
    "from rdkit import Chem\n",
    "from rdkit.Chem import RemoveHs\n",
    "\n",
    "# convert isomeric SMILES to canonical SMILES\n",
    "def convert_to_canonical(smiles):\n",
    "    mol = Chem.MolFromSmiles(smiles)\n",
    "    # Convert molecule to Kekulé form to ensure stability before removing Hs\n",
    "    Chem.Kekulize(mol, clearAromaticFlags=True)\n",
    "    mol = RemoveHs(mol)  # Remove explicit hydrogens\n",
    "    return Chem.MolToSmiles(mol, isomericSmiles=False) if mol else None\n",
    "\n",
    "# Apply function separately to each column\n",
    "df['SMILES_part1'] = df['SMILES_part1'].apply(convert_to_canonical)\n",
    "df['SMILES_part2'] = df['SMILES_part2'].apply(convert_to_canonical)\n",
    "\n",
    "df.head()"
   ]
  },
  {
   "cell_type": "code",
   "execution_count": 4,
   "metadata": {},
   "outputs": [],
   "source": [
    "# Save to .csv file\n",
    "df.to_csv('split_smiles.csv', index=False)"
   ]
  }
 ],
 "metadata": {
  "kernelspec": {
   "display_name": "Python 3",
   "language": "python",
   "name": "python3"
  },
  "language_info": {
   "codemirror_mode": {
    "name": "ipython",
    "version": 3
   },
   "file_extension": ".py",
   "mimetype": "text/x-python",
   "name": "python",
   "nbconvert_exporter": "python",
   "pygments_lexer": "ipython3",
   "version": "3.12.3"
  }
 },
 "nbformat": 4,
 "nbformat_minor": 2
}
